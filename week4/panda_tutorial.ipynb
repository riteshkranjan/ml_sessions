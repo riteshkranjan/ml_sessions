{
 "cells": [
  {
   "cell_type": "markdown",
   "metadata": {},
   "source": [
    "### Pandas is an open source Python library providing high-performance, easy-to-use data structures and data analysis tools.\n",
    "\n",
    "* Runs on top of NumPy.\n",
    "* Very popular for data science.\n",
    "\n",
    "### NumPy\n",
    "* Low-level data structure (np.array)\n",
    "* Support for large multi-dimensional arrays and matrices\n",
    "* A wide range of mathematical array operations.\n",
    "\n",
    "### Pandas\n",
    "* High-level data structures (data frame).\n",
    "* More streamlined handling of tabular data, and rich time series functionality.\n",
    "* Data alignment, missing-data friendly statistics, groupby, merge and join methods.\n",
    "* You can use Pandas data structures, and freely draw on NumPy and SciPy functions to manipulate them.\n",
    "\n",
    "numpy > pandas, scipy, matplotlib > sklearn(sciKit) then other Datascience and Machine learning libraries"
   ]
  },
  {
   "cell_type": "code",
   "execution_count": null,
   "metadata": {},
   "outputs": [],
   "source": [
    "import numpy as np\n",
    "import pandas as pd\n",
    "import matplotlib.pyplot as plt\n"
   ]
  },
  {
   "cell_type": "code",
   "execution_count": null,
   "metadata": {},
   "outputs": [],
   "source": [
    "titanic_df = pd.read_excel('titanic.xls', 'titanic', index_col=None, na_values=['NA'])"
   ]
  },
  {
   "cell_type": "markdown",
   "metadata": {},
   "source": [
    "CLASS\n",
    "     0=crew\n",
    "     1=first\n",
    "     2=second\n",
    "     3=third\n",
    "\n",
    "AGE\n",
    "     1=adult\n",
    "     0=child\n",
    "\n",
    "SEX\n",
    "     1=male\n",
    "     0=female\n",
    "\n",
    "SURVIVE\n",
    "     1=yes\n",
    "     0=no\n"
   ]
  },
  {
   "cell_type": "code",
   "execution_count": null,
   "metadata": {},
   "outputs": [],
   "source": [
    "titanic_df.tail()"
   ]
  },
  {
   "cell_type": "code",
   "execution_count": null,
   "metadata": {},
   "outputs": [],
   "source": [
    "titanic_df.describe()"
   ]
  },
  {
   "cell_type": "code",
   "execution_count": null,
   "metadata": {},
   "outputs": [],
   "source": [
    "pd.value_counts(titanic_df['SURVIVE']).plot.bar()"
   ]
  },
  {
   "cell_type": "code",
   "execution_count": null,
   "metadata": {},
   "outputs": [],
   "source": [
    "titanic_df['SURVIVE'].mean()"
   ]
  },
  {
   "cell_type": "code",
   "execution_count": null,
   "metadata": {},
   "outputs": [],
   "source": [
    "titanic_df.groupby(['SEX']).mean()"
   ]
  },
  {
   "cell_type": "code",
   "execution_count": null,
   "metadata": {},
   "outputs": [],
   "source": [
    "titanic_df.groupby(['SEX','CLASS']).mean()"
   ]
  },
  {
   "cell_type": "code",
   "execution_count": null,
   "metadata": {},
   "outputs": [],
   "source": [
    "titanic_df[titanic_df['AGE']==0].groupby(['SEX','CLASS']).mean()"
   ]
  },
  {
   "cell_type": "code",
   "execution_count": null,
   "metadata": {},
   "outputs": [],
   "source": []
  }
 ],
 "metadata": {
  "kernelspec": {
   "display_name": "Python 3",
   "language": "python",
   "name": "python3"
  },
  "language_info": {
   "codemirror_mode": {
    "name": "ipython",
    "version": 3
   },
   "file_extension": ".py",
   "mimetype": "text/x-python",
   "name": "python",
   "nbconvert_exporter": "python",
   "pygments_lexer": "ipython3",
   "version": "3.6.5"
  }
 },
 "nbformat": 4,
 "nbformat_minor": 2
}
