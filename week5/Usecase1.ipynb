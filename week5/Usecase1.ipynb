{
 "cells": [
  {
   "cell_type": "markdown",
   "metadata": {},
   "source": [
    "# Predict number from image\n",
    "* Framework : Tensorflow (https://www.tensorflow.org/)\n",
    "* Deep learning library : Keras (https://keras.io/)\n",
    "* input : Mnist database (http://yann.lecun.com/exdb/mnist/) \n",
    "* it has 60k arrays of 28x28 training and 10k test images.\n",
    "\n",
    "\n",
    "### Steps\n",
    "1. load mnist data \n",
    "* normalize it to for faster processing \n",
    "* define sequential model \n",
    "* add 4 layers\n",
    "   * flatten, \n",
    "   * 2 reslu dense and \n",
    "   * one final softmax dense \n",
    "* complile the model\n",
    "* fit training data to model with epochs\n",
    "* evaluate model \n",
    "* start predicting \n",
    "* print all prediction\n",
    "\n",
    "### Use of matplotlib, np and panda\n",
    "* use matplotlib to print image :    \n",
    "plt.imshow(x_train[0], cmap=plt.cm.binary)   \n",
    "plt.show()   \n",
    "\n",
    "\n",
    "* subplot   \n",
    "images = x_test[0:18]   \n",
    "fig, axes = plt.subplots(3, 6, figsize=[9,5])   \n",
    "for i, ax in enumerate(axes.flat):   \n",
    "&nbsp;&nbsp;&nbsp; ax.imshow(x_test[i], cmap=plt.cm.Greys)   \n",
    "&nbsp;&nbsp;&nbsp; ax.set_xticks([np.argmax(prediction[i])])   \n",
    "&nbsp;&nbsp;&nbsp; ax.set_yticks([])   \n",
    "plt.show   \n",
    "\n",
    "\n",
    "* use panda to read a csv file and predict :   \n",
    "df = pd.read_csv('mnistimg2.csv', header=None)   \n",
    "y = df.values x = np.array([y])"
   ]
  },
  {
   "cell_type": "code",
   "execution_count": null,
   "metadata": {},
   "outputs": [],
   "source": [
    "import tensorflow as tf\n",
    "import tensorflow.keras as keras"
   ]
  },
  {
   "cell_type": "code",
   "execution_count": null,
   "metadata": {},
   "outputs": [],
   "source": [
    "mnist = keras.datasets.mnist\n",
    "(x_train, y_train), (x_test,y_test) = mnist.load_data()"
   ]
  },
  {
   "cell_type": "code",
   "execution_count": null,
   "metadata": {},
   "outputs": [],
   "source": [
    "import matplotlib.pyplot as plt\n",
    "plt.imshow(x_train[0], cmap=plt.cm.binary)\n",
    "plt.show()\n",
    "print(\"this is \",y_train[0])"
   ]
  },
  {
   "cell_type": "code",
   "execution_count": null,
   "metadata": {},
   "outputs": [],
   "source": [
    "x_train = keras.utils.normalize(x_train)\n",
    "x_test = keras.utils.normalize(x_test)"
   ]
  },
  {
   "cell_type": "code",
   "execution_count": null,
   "metadata": {},
   "outputs": [],
   "source": [
    "import matplotlib.pyplot as plt\n",
    "plt.imshow(x_train[0], cmap=plt.cm.binary)\n",
    "plt.show()\n",
    "print(\"this is \",y_train[0])"
   ]
  },
  {
   "cell_type": "code",
   "execution_count": null,
   "metadata": {},
   "outputs": [],
   "source": [
    "model = keras.models.Sequential()\n",
    "model.add(keras.layers.Flatten())\n",
    "model.add(keras.layers.Dense(128, activation=tf.nn.relu))\n",
    "model.add(keras.layers.Dense(128, activation=tf.nn.relu))\n",
    "model.add(keras.layers.Dense(10, activation=tf.nn.softmax))\n"
   ]
  },
  {
   "cell_type": "code",
   "execution_count": null,
   "metadata": {},
   "outputs": [],
   "source": [
    "model.compile(optimizer='adam',loss='sparse_categorical_crossentropy',metrics=['accuracy'])\n",
    "model.fit(x_train,y_train,epochs=3)\n",
    "loss,accuracy = model.evaluate(x_test,y_test)\n",
    "print(accuracy)"
   ]
  },
  {
   "cell_type": "code",
   "execution_count": null,
   "metadata": {},
   "outputs": [],
   "source": [
    "prediction = model.predict(x_test)"
   ]
  },
  {
   "cell_type": "code",
   "execution_count": null,
   "metadata": {},
   "outputs": [],
   "source": [
    "plt.imshow(x_test[0], cmap=plt.cm.binary)\n",
    "plt.show()\n",
    "import numpy as np\n",
    "print(\"this is \",np.argmax(prediction[0]))"
   ]
  },
  {
   "cell_type": "code",
   "execution_count": null,
   "metadata": {},
   "outputs": [],
   "source": [
    "images = x_test[0:18]\n",
    "fig, axes = plt.subplots(3, 6, figsize=[9,5])\n",
    "for i, ax in enumerate(axes.flat):\n",
    "    ax.imshow(x_test[i], cmap=plt.cm.Greys)\n",
    "    ax.set_xticks([np.argmax(prediction[i])])\n",
    "    ax.set_yticks([])\n",
    "plt.show"
   ]
  },
  {
   "cell_type": "code",
   "execution_count": null,
   "metadata": {},
   "outputs": [],
   "source": [
    "import pandas as pd\n"
   ]
  },
  {
   "cell_type": "code",
   "execution_count": null,
   "metadata": {},
   "outputs": [],
   "source": [
    "df = pd.read_csv('input.csv')\n",
    "x = df.values\n"
   ]
  },
  {
   "cell_type": "code",
   "execution_count": null,
   "metadata": {},
   "outputs": [],
   "source": [
    "y = np.array([x])\n",
    "#print(x_test.shape)"
   ]
  },
  {
   "cell_type": "code",
   "execution_count": null,
   "metadata": {},
   "outputs": [],
   "source": [
    "prediction = model.predict(y)\n",
    "plt.imshow(x, cmap=plt.cm.binary)\n",
    "plt.show()\n",
    "import numpy as np\n",
    "print(\"this is \",np.argmax(prediction[0]))"
   ]
  },
  {
   "cell_type": "code",
   "execution_count": null,
   "metadata": {},
   "outputs": [],
   "source": [
    "df = pd.read_csv('mnistimg2.csv', header=None)\n",
    "x = df.values\n",
    "y = np.array([x])\n",
    "prediction = model.predict(y)\n",
    "plt.imshow(x, cmap=plt.cm.binary)\n",
    "plt.show()\n",
    "import numpy as np\n",
    "print(\"this is \",np.argmax(prediction[0]))"
   ]
  },
  {
   "cell_type": "code",
   "execution_count": null,
   "metadata": {},
   "outputs": [],
   "source": []
  }
 ],
 "metadata": {
  "kernelspec": {
   "display_name": "Python 3",
   "language": "python",
   "name": "python3"
  },
  "language_info": {
   "codemirror_mode": {
    "name": "ipython",
    "version": 3
   },
   "file_extension": ".py",
   "mimetype": "text/x-python",
   "name": "python",
   "nbconvert_exporter": "python",
   "pygments_lexer": "ipython3",
   "version": "3.6.2"
  }
 },
 "nbformat": 4,
 "nbformat_minor": 2
}
