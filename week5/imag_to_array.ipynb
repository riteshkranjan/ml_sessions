{
 "cells": [
  {
   "cell_type": "code",
   "execution_count": 1,
   "metadata": {},
   "outputs": [
    {
     "name": "stdout",
     "output_type": "stream",
     "text": [
      "enter file name :mnistimg2\n",
      "<class 'numpy.ndarray'>\n",
      "(28, 28)\n"
     ]
    },
    {
     "data": {
      "text/plain": [
       "<Figure size 640x480 with 1 Axes>"
      ]
     },
     "metadata": {},
     "output_type": "display_data"
    }
   ],
   "source": [
    "from PIL import Image\n",
    "import numpy as np\n",
    "\n",
    "fname = input(\"enter file name :\")\n",
    "f = \"{}.png\".format(fname)\n",
    "\n",
    "originalimage = Image.open(f).convert('L')  \n",
    "\n",
    "img = originalimage.resize((28,28))\n",
    "img.save('{}_28.png'.format(fname))\n",
    "\n",
    "WIDTH, HEIGHT = img.size\n",
    "\n",
    "data = list(img.getdata()) \n",
    "data = [data[offset:offset+WIDTH] for offset in range(0, WIDTH*HEIGHT, WIDTH)]\n",
    "\n",
    "a = np.array(data)\n",
    "print(type(a))\n",
    "print(a.shape)\n",
    "\n",
    "import matplotlib.pyplot as plt\n",
    "plt.imshow(a,cmap=plt.cm.binary)\n",
    "plt.show()\n"
   ]
  },
  {
   "cell_type": "code",
   "execution_count": 2,
   "metadata": {},
   "outputs": [],
   "source": [
    "import pandas as pd\n",
    "df =pd.DataFrame(a)\n",
    "output = '{}.csv'.format(fname)\n",
    "df.to_csv(output,header=False,index=False)"
   ]
  },
  {
   "cell_type": "code",
   "execution_count": null,
   "metadata": {},
   "outputs": [],
   "source": []
  }
 ],
 "metadata": {
  "kernelspec": {
   "display_name": "Python 3",
   "language": "python",
   "name": "python3"
  },
  "language_info": {
   "codemirror_mode": {
    "name": "ipython",
    "version": 3
   },
   "file_extension": ".py",
   "mimetype": "text/x-python",
   "name": "python",
   "nbconvert_exporter": "python",
   "pygments_lexer": "ipython3",
   "version": "3.6.2"
  }
 },
 "nbformat": 4,
 "nbformat_minor": 2
}
